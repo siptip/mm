{
 "cells": [
  {
   "cell_type": "code",
   "execution_count": 1,
   "id": "f4d36373",
   "metadata": {},
   "outputs": [],
   "source": [
    "import numpy as np"
   ]
  },
  {
   "cell_type": "code",
   "execution_count": 2,
   "id": "e0078c1e",
   "metadata": {},
   "outputs": [],
   "source": [
    "import pandas as pd"
   ]
  },
  {
   "cell_type": "code",
   "execution_count": 3,
   "id": "898389b2",
   "metadata": {},
   "outputs": [],
   "source": [
    "import  matplotlib  as   plt"
   ]
  },
  {
   "cell_type": "code",
   "execution_count": 4,
   "id": "5da4d1c9",
   "metadata": {},
   "outputs": [],
   "source": [
    "df=pd.read_csv(r\"C:\\Users\\hp\\Desktop\\ac.csv\")"
   ]
  },
  {
   "cell_type": "code",
   "execution_count": 5,
   "id": "c5b61737",
   "metadata": {},
   "outputs": [
    {
     "data": {
      "text/html": [
       "<div>\n",
       "<style scoped>\n",
       "    .dataframe tbody tr th:only-of-type {\n",
       "        vertical-align: middle;\n",
       "    }\n",
       "\n",
       "    .dataframe tbody tr th {\n",
       "        vertical-align: top;\n",
       "    }\n",
       "\n",
       "    .dataframe thead th {\n",
       "        text-align: right;\n",
       "    }\n",
       "</style>\n",
       "<table border=\"1\" class=\"dataframe\">\n",
       "  <thead>\n",
       "    <tr style=\"text-align: right;\">\n",
       "      <th></th>\n",
       "      <th>rollno</th>\n",
       "      <th>name</th>\n",
       "      <th>marks</th>\n",
       "      <th>gender</th>\n",
       "    </tr>\n",
       "  </thead>\n",
       "  <tbody>\n",
       "    <tr>\n",
       "      <th>0</th>\n",
       "      <td>1</td>\n",
       "      <td>abx</td>\n",
       "      <td>89.0</td>\n",
       "      <td>f</td>\n",
       "    </tr>\n",
       "    <tr>\n",
       "      <th>1</th>\n",
       "      <td>2</td>\n",
       "      <td>ft</td>\n",
       "      <td>90.0</td>\n",
       "      <td>f</td>\n",
       "    </tr>\n",
       "    <tr>\n",
       "      <th>2</th>\n",
       "      <td>3</td>\n",
       "      <td>rtge</td>\n",
       "      <td>91.0</td>\n",
       "      <td>f</td>\n",
       "    </tr>\n",
       "    <tr>\n",
       "      <th>3</th>\n",
       "      <td>4</td>\n",
       "      <td>grtgt</td>\n",
       "      <td>92.0</td>\n",
       "      <td>f</td>\n",
       "    </tr>\n",
       "    <tr>\n",
       "      <th>4</th>\n",
       "      <td>5</td>\n",
       "      <td>grg</td>\n",
       "      <td>93.0</td>\n",
       "      <td>m</td>\n",
       "    </tr>\n",
       "    <tr>\n",
       "      <th>5</th>\n",
       "      <td>6</td>\n",
       "      <td>wr</td>\n",
       "      <td>94.0</td>\n",
       "      <td>f</td>\n",
       "    </tr>\n",
       "    <tr>\n",
       "      <th>6</th>\n",
       "      <td>7</td>\n",
       "      <td>rtw</td>\n",
       "      <td>NaN</td>\n",
       "      <td>m</td>\n",
       "    </tr>\n",
       "    <tr>\n",
       "      <th>7</th>\n",
       "      <td>8</td>\n",
       "      <td>ere</td>\n",
       "      <td>96.0</td>\n",
       "      <td>f</td>\n",
       "    </tr>\n",
       "    <tr>\n",
       "      <th>8</th>\n",
       "      <td>9</td>\n",
       "      <td>ww3</td>\n",
       "      <td>97.0</td>\n",
       "      <td>f</td>\n",
       "    </tr>\n",
       "    <tr>\n",
       "      <th>9</th>\n",
       "      <td>10</td>\n",
       "      <td>ere</td>\n",
       "      <td>98.0</td>\n",
       "      <td>m</td>\n",
       "    </tr>\n",
       "    <tr>\n",
       "      <th>10</th>\n",
       "      <td>11</td>\n",
       "      <td>gerg</td>\n",
       "      <td>99.0</td>\n",
       "      <td>f</td>\n",
       "    </tr>\n",
       "    <tr>\n",
       "      <th>11</th>\n",
       "      <td>12</td>\n",
       "      <td>rtger</td>\n",
       "      <td>100.0</td>\n",
       "      <td>m</td>\n",
       "    </tr>\n",
       "    <tr>\n",
       "      <th>12</th>\n",
       "      <td>13</td>\n",
       "      <td>qer</td>\n",
       "      <td>101.0</td>\n",
       "      <td>f</td>\n",
       "    </tr>\n",
       "    <tr>\n",
       "      <th>13</th>\n",
       "      <td>14</td>\n",
       "      <td>ioli</td>\n",
       "      <td>102.0</td>\n",
       "      <td>m</td>\n",
       "    </tr>\n",
       "    <tr>\n",
       "      <th>14</th>\n",
       "      <td>15</td>\n",
       "      <td>bgh</td>\n",
       "      <td>NaN</td>\n",
       "      <td>f</td>\n",
       "    </tr>\n",
       "    <tr>\n",
       "      <th>15</th>\n",
       "      <td>16</td>\n",
       "      <td>thy</td>\n",
       "      <td>104.0</td>\n",
       "      <td>f</td>\n",
       "    </tr>\n",
       "    <tr>\n",
       "      <th>16</th>\n",
       "      <td>17</td>\n",
       "      <td>xyz</td>\n",
       "      <td>105.0</td>\n",
       "      <td>m</td>\n",
       "    </tr>\n",
       "    <tr>\n",
       "      <th>17</th>\n",
       "      <td>18</td>\n",
       "      <td>asd</td>\n",
       "      <td>106.0</td>\n",
       "      <td>m</td>\n",
       "    </tr>\n",
       "    <tr>\n",
       "      <th>18</th>\n",
       "      <td>19</td>\n",
       "      <td>oop</td>\n",
       "      <td>107.0</td>\n",
       "      <td>f</td>\n",
       "    </tr>\n",
       "    <tr>\n",
       "      <th>19</th>\n",
       "      <td>20</td>\n",
       "      <td>yyu</td>\n",
       "      <td>108.0</td>\n",
       "      <td>f</td>\n",
       "    </tr>\n",
       "    <tr>\n",
       "      <th>20</th>\n",
       "      <td>21</td>\n",
       "      <td>ttyu</td>\n",
       "      <td>NaN</td>\n",
       "      <td>m</td>\n",
       "    </tr>\n",
       "    <tr>\n",
       "      <th>21</th>\n",
       "      <td>22</td>\n",
       "      <td>hj</td>\n",
       "      <td>110.0</td>\n",
       "      <td>f</td>\n",
       "    </tr>\n",
       "    <tr>\n",
       "      <th>22</th>\n",
       "      <td>23</td>\n",
       "      <td>yyu</td>\n",
       "      <td>111.0</td>\n",
       "      <td>f</td>\n",
       "    </tr>\n",
       "    <tr>\n",
       "      <th>23</th>\n",
       "      <td>24</td>\n",
       "      <td>pterwer</td>\n",
       "      <td>112.0</td>\n",
       "      <td>f</td>\n",
       "    </tr>\n",
       "  </tbody>\n",
       "</table>\n",
       "</div>"
      ],
      "text/plain": [
       "    rollno     name  marks gender\n",
       "0        1      abx   89.0      f\n",
       "1        2       ft   90.0      f\n",
       "2        3     rtge   91.0      f\n",
       "3        4    grtgt   92.0      f\n",
       "4        5      grg   93.0      m\n",
       "5        6       wr   94.0      f\n",
       "6        7      rtw    NaN      m\n",
       "7        8      ere   96.0      f\n",
       "8        9      ww3   97.0      f\n",
       "9       10      ere   98.0      m\n",
       "10      11     gerg   99.0      f\n",
       "11      12    rtger  100.0      m\n",
       "12      13      qer  101.0      f\n",
       "13      14     ioli  102.0      m\n",
       "14      15      bgh    NaN      f\n",
       "15      16      thy  104.0      f\n",
       "16      17      xyz  105.0      m\n",
       "17      18      asd  106.0      m\n",
       "18      19      oop  107.0      f\n",
       "19      20      yyu  108.0      f\n",
       "20      21     ttyu    NaN      m\n",
       "21      22       hj  110.0      f\n",
       "22      23      yyu  111.0      f\n",
       "23      24  pterwer  112.0      f"
      ]
     },
     "execution_count": 5,
     "metadata": {},
     "output_type": "execute_result"
    }
   ],
   "source": [
    "df"
   ]
  },
  {
   "cell_type": "code",
   "execution_count": 6,
   "id": "6e0f1e0a",
   "metadata": {},
   "outputs": [
    {
     "data": {
      "text/plain": [
       "<bound method NDFrame.describe of     rollno     name  marks gender\n",
       "0        1      abx   89.0      f\n",
       "1        2       ft   90.0      f\n",
       "2        3     rtge   91.0      f\n",
       "3        4    grtgt   92.0      f\n",
       "4        5      grg   93.0      m\n",
       "5        6       wr   94.0      f\n",
       "6        7      rtw    NaN      m\n",
       "7        8      ere   96.0      f\n",
       "8        9      ww3   97.0      f\n",
       "9       10      ere   98.0      m\n",
       "10      11     gerg   99.0      f\n",
       "11      12    rtger  100.0      m\n",
       "12      13      qer  101.0      f\n",
       "13      14     ioli  102.0      m\n",
       "14      15      bgh    NaN      f\n",
       "15      16      thy  104.0      f\n",
       "16      17      xyz  105.0      m\n",
       "17      18      asd  106.0      m\n",
       "18      19      oop  107.0      f\n",
       "19      20      yyu  108.0      f\n",
       "20      21     ttyu    NaN      m\n",
       "21      22       hj  110.0      f\n",
       "22      23      yyu  111.0      f\n",
       "23      24  pterwer  112.0      f>"
      ]
     },
     "execution_count": 6,
     "metadata": {},
     "output_type": "execute_result"
    }
   ],
   "source": [
    "df.describe"
   ]
  },
  {
   "cell_type": "code",
   "execution_count": null,
   "id": "04666e35",
   "metadata": {},
   "outputs": [],
   "source": [
    "df.shape"
   ]
  },
  {
   "cell_type": "code",
   "execution_count": null,
   "id": "52a63ce2",
   "metadata": {},
   "outputs": [],
   "source": [
    "df.columns"
   ]
  },
  {
   "cell_type": "code",
   "execution_count": null,
   "id": "7e7a143b",
   "metadata": {},
   "outputs": [],
   "source": [
    "df.columns.values"
   ]
  },
  {
   "cell_type": "code",
   "execution_count": null,
   "id": "935e8b6a",
   "metadata": {},
   "outputs": [],
   "source": [
    "df.dtypes"
   ]
  },
  {
   "cell_type": "code",
   "execution_count": 12,
   "id": "308c7887",
   "metadata": {},
   "outputs": [],
   "source": [
    "df['name']=df['name'].astype(str)"
   ]
  },
  {
   "cell_type": "code",
   "execution_count": null,
   "id": "3471717b",
   "metadata": {},
   "outputs": [],
   "source": [
    "df.dtypes"
   ]
  },
  {
   "cell_type": "code",
   "execution_count": 7,
   "id": "a3f83982",
   "metadata": {},
   "outputs": [
    {
     "data": {
      "text/plain": [
       "rollno    False\n",
       "name      False\n",
       "marks      True\n",
       "gender    False\n",
       "dtype: bool"
      ]
     },
     "execution_count": 7,
     "metadata": {},
     "output_type": "execute_result"
    }
   ],
   "source": [
    "df.isnull().any()"
   ]
  },
  {
   "cell_type": "code",
   "execution_count": 8,
   "id": "90adb9a2",
   "metadata": {},
   "outputs": [
    {
     "data": {
      "text/plain": [
       "rollno    0\n",
       "name      0\n",
       "marks     3\n",
       "gender    0\n",
       "dtype: int64"
      ]
     },
     "execution_count": 8,
     "metadata": {},
     "output_type": "execute_result"
    }
   ],
   "source": [
    "\n",
    "df.isnull().sum()"
   ]
  },
  {
   "cell_type": "code",
   "execution_count": 9,
   "id": "17249bdf",
   "metadata": {},
   "outputs": [
    {
     "data": {
      "text/html": [
       "<div>\n",
       "<style scoped>\n",
       "    .dataframe tbody tr th:only-of-type {\n",
       "        vertical-align: middle;\n",
       "    }\n",
       "\n",
       "    .dataframe tbody tr th {\n",
       "        vertical-align: top;\n",
       "    }\n",
       "\n",
       "    .dataframe thead th {\n",
       "        text-align: right;\n",
       "    }\n",
       "</style>\n",
       "<table border=\"1\" class=\"dataframe\">\n",
       "  <thead>\n",
       "    <tr style=\"text-align: right;\">\n",
       "      <th></th>\n",
       "      <th>rollno</th>\n",
       "      <th>name</th>\n",
       "      <th>marks</th>\n",
       "      <th>gender</th>\n",
       "    </tr>\n",
       "  </thead>\n",
       "  <tbody>\n",
       "    <tr>\n",
       "      <th>6</th>\n",
       "      <td>7</td>\n",
       "      <td>rtw</td>\n",
       "      <td>NaN</td>\n",
       "      <td>m</td>\n",
       "    </tr>\n",
       "    <tr>\n",
       "      <th>14</th>\n",
       "      <td>15</td>\n",
       "      <td>bgh</td>\n",
       "      <td>NaN</td>\n",
       "      <td>f</td>\n",
       "    </tr>\n",
       "    <tr>\n",
       "      <th>20</th>\n",
       "      <td>21</td>\n",
       "      <td>ttyu</td>\n",
       "      <td>NaN</td>\n",
       "      <td>m</td>\n",
       "    </tr>\n",
       "  </tbody>\n",
       "</table>\n",
       "</div>"
      ],
      "text/plain": [
       "    rollno  name  marks gender\n",
       "6        7   rtw    NaN      m\n",
       "14      15   bgh    NaN      f\n",
       "20      21  ttyu    NaN      m"
      ]
     },
     "execution_count": 9,
     "metadata": {},
     "output_type": "execute_result"
    }
   ],
   "source": [
    "\n",
    "series = df['marks'].isnull()\n",
    "df[series]"
   ]
  },
  {
   "cell_type": "code",
   "execution_count": 13,
   "id": "50c5ed35",
   "metadata": {},
   "outputs": [],
   "source": [
    "\n",
    "m=df['marks'].mean()"
   ]
  },
  {
   "cell_type": "code",
   "execution_count": 14,
   "id": "b6b797c2",
   "metadata": {},
   "outputs": [
    {
     "data": {
      "text/plain": [
       "100.23809523809524"
      ]
     },
     "execution_count": 14,
     "metadata": {},
     "output_type": "execute_result"
    }
   ],
   "source": [
    "m"
   ]
  },
  {
   "cell_type": "code",
   "execution_count": 15,
   "id": "dabd2d7f",
   "metadata": {},
   "outputs": [],
   "source": [
    "df['marks'].fillna(value=m,inplace=True)"
   ]
  },
  {
   "cell_type": "code",
   "execution_count": null,
   "id": "fe514bc9",
   "metadata": {},
   "outputs": [],
   "source": [
    "df"
   ]
  },
  {
   "cell_type": "code",
   "execution_count": null,
   "id": "d0c57df9",
   "metadata": {},
   "outputs": [],
   "source": [
    "n=np.median(df['marks'])"
   ]
  },
  {
   "cell_type": "code",
   "execution_count": null,
   "id": "a9e6e1c3",
   "metadata": {},
   "outputs": [],
   "source": [
    "n"
   ]
  },
  {
   "cell_type": "code",
   "execution_count": null,
   "id": "79062cf6",
   "metadata": {},
   "outputs": [],
   "source": [
    "import statistics\n",
    "\n",
    "\n",
    "\n",
    "# Find the mode\n",
    "mode = statistics.mode(df['marks'])\n",
    "\n",
    "print(\"Mode:\", mode)\n"
   ]
  },
  {
   "cell_type": "code",
   "execution_count": null,
   "id": "94c7d829",
   "metadata": {},
   "outputs": [],
   "source": [
    "#from sklearn import preprocessing "
   ]
  },
  {
   "cell_type": "code",
   "execution_count": null,
   "id": "1d4cf859",
   "metadata": {},
   "outputs": [],
   "source": [
    "#"
   ]
  },
  {
   "cell_type": "code",
   "execution_count": null,
   "id": "a3747c12",
   "metadata": {},
   "outputs": [],
   "source": [
    "#df['gender']=label.fit_transform(df['gender'])"
   ]
  },
  {
   "cell_type": "code",
   "execution_count": null,
   "id": "7f309a8f",
   "metadata": {},
   "outputs": [],
   "source": [
    "df"
   ]
  },
  {
   "cell_type": "code",
   "execution_count": 21,
   "id": "1eeb003a",
   "metadata": {},
   "outputs": [
    {
     "data": {
      "text/plain": [
       "<Axes: >"
      ]
     },
     "execution_count": 21,
     "metadata": {},
     "output_type": "execute_result"
    },
    {
     "data": {
      "image/png": "[encoded data removed]",
      "text/plain": [
       "<Figure size 640x480 with 1 Axes>"
      ]
     },
     "metadata": {},
     "output_type": "display_data"
    }
   ],
   "source": [
    "df['marks'].plot(kind='box')"
   ]
  },
  {
   "cell_type": "code",
   "execution_count": 16,
   "id": "53b0cbb9",
   "metadata": {},
   "outputs": [],
   "source": [
    "import pandas as pd\n",
    "from sklearn.preprocessing import MinMaxScaler\n",
    "\n",
    "\n",
    "\n",
    "scaler = MinMaxScaler()\n",
    "\n",
    "# Fit and transform the variable\n",
    "df['marks'] = scaler.fit_transform(df[['marks']])\n",
    "\n",
    "# Step 3: Assess the transformed variable\n",
    "# You can now use the transformed variable 'scaled_age' for further analysis or modeling\n"
   ]
  },
  {
   "cell_type": "code",
   "execution_count": null,
   "id": "d31ee381",
   "metadata": {},
   "outputs": [],
   "source": [
    "df"
   ]
  },
  {
   "cell_type": "code",
   "execution_count": 25,
   "id": "57588ef0",
   "metadata": {},
   "outputs": [
    {
     "data": {
      "text/plain": [
       "Text(0, 0.5, 'freuqncy')"
      ]
     },
     "execution_count": 25,
     "metadata": {},
     "output_type": "execute_result"
    },
    {
     "data": {
      "image/png": "[encoded data removed]",
      "text/plain": [
       "<Figure size 640x480 with 1 Axes>"
      ]
     },
     "metadata": {},
     "output_type": "display_data"
    }
   ],
   "source": [
    "df['marks'].plot(kind=\"hist\")\n",
    "plt.title(\"Before apply any transformation\")\n",
    "plt.xlabel(\"marks\")\n",
    "plt.ylabel(\"freuqncy\")\n"
   ]
  },
  {
   "cell_type": "code",
   "execution_count": 28,
   "id": "6bbfcab6",
   "metadata": {},
   "outputs": [],
   "source": [
    "\n",
    "s=1e-8\n",
    "df['new_marks']=np.log(df['marks']+s)"
   ]
  },
  {
   "cell_type": "code",
   "execution_count": 31,
   "id": "bc308259",
   "metadata": {},
   "outputs": [
    {
     "data": {
      "text/plain": [
       "Text(0, 0.5, 'frequencey')"
      ]
     },
     "execution_count": 31,
     "metadata": {},
     "output_type": "execute_result"
    },
    {
     "data": {
      "image/png": "[encoded data removed]",
      "text/plain": [
       "<Figure size 640x480 with 1 Axes>"
      ]
     },
     "metadata": {},
     "output_type": "display_data"
    }
   ],
   "source": [
    "df['new_marks'].plot(kind=\"hist\")\n",
    "plt.title(\"after transformation\")\n",
    "plt.xlabel(\"marks\")\n",
    "plt.ylabel(\"frequencey\")"
   ]
  },
  {
   "cell_type": "code",
   "execution_count": null,
   "id": "82aa60e6",
   "metadata": {},
   "outputs": [],
   "source": []
  }
 ],
 "metadata": {
  "kernelspec": {
   "display_name": "Python 3 (ipykernel)",
   "language": "python",
   "name": "python3"
  },
  "language_info": {
   "codemirror_mode": {
    "name": "ipython",
    "version": 3
   },
   "file_extension": ".py",
   "mimetype": "text/x-python",
   "name": "python",
   "nbconvert_exporter": "python",
   "pygments_lexer": "ipython3",
   "version": "3.10.9"
  }
 },
 "nbformat": 4,
 "nbformat_minor": 5
}
